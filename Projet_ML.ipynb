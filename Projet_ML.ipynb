{
 "cells": [
  {
   "attachments": {},
   "cell_type": "markdown",
   "metadata": {},
   "source": [
    "# I/ Prepapration du Jeux d'apprentissage"
   ]
  },
  {
   "attachments": {},
   "cell_type": "markdown",
   "metadata": {},
   "source": [
    "## Contexte"
   ]
  },
  {
   "attachments": {},
   "cell_type": "markdown",
   "metadata": {},
   "source": [
    "**Problèmatique** : Déterminer les clients qui sont VIP ou non (1 : VIP / 0 : Non VIP)"
   ]
  },
  {
   "attachments": {},
   "cell_type": "markdown",
   "metadata": {},
   "source": [
    "**Etapes du Projet** :\n",
    "- Explorer les Datasets disponibles pour déterminer les variables potentiellements utiles pour notre modèle\n",
    "- Construction du dataset d'apprentissage\n",
    "- Exploration du dataset et nettoyage des données\n",
    "- Réaliser des tests de corrélations et supprimer les colonnes inutiles\n",
    "- Mise en place du modèle d'apprentissage \n"
   ]
  },
  {
   "attachments": {},
   "cell_type": "markdown",
   "metadata": {},
   "source": [
    "## Import bibliothèque"
   ]
  },
  {
   "cell_type": "code",
   "execution_count": 1,
   "metadata": {},
   "outputs": [],
   "source": [
    "import pandas as pd\n",
    "import numpy as np\n",
    "import matplotlib.pyplot as plt\n",
    "import seaborn as sns\n",
    "import stats_desc as st\n",
    "from scipy import stats"
   ]
  },
  {
   "attachments": {},
   "cell_type": "markdown",
   "metadata": {},
   "source": [
    "## Chargement des datasets"
   ]
  },
  {
   "cell_type": "code",
   "execution_count": 2,
   "metadata": {},
   "outputs": [
    {
     "name": "stderr",
     "output_type": "stream",
     "text": [
      "C:\\Users\\benja\\AppData\\Local\\Temp\\ipykernel_540\\3095619785.py:2: DtypeWarning: Columns (8) have mixed types. Specify dtype option on import or set low_memory=False.\n",
      "  df_client = pd.read_csv('G:\\Mon Drive\\cours benjamin\\ESG Paris\\Cours\\Semestre 2\\Machine learning\\Machine learning - Projet\\Projet git\\data\\CLIENT.CSV', sep = \"|\", dtype={'IDCLIENT':str, 'VIP': str})\n"
     ]
    }
   ],
   "source": [
    "# Load your dataset into a DataFrame\n",
    "df_client = pd.read_csv('G:\\Mon Drive\\cours benjamin\\ESG Paris\\Cours\\Semestre 2\\Machine learning\\Machine learning - Projet\\Projet git\\data\\CLIENT.CSV', sep = \"|\", dtype={'IDCLIENT':str, 'VIP': str})\n",
    "df_ticket = pd.read_csv('G:\\Mon Drive\\cours benjamin\\ESG Paris\\Cours\\Semestre 2\\Machine learning\\Machine learning - Projet\\Projet git\\data\\ENTETES_TICKET_V4.CSV', sep = \"|\", dtype={'IDTICKET':str, 'IDCLIENT' : str})\n",
    "df_magasin = pd.read_csv('G:\\Mon Drive\\cours benjamin\\ESG Paris\\Cours\\Semestre 2\\Machine learning\\Machine learning - Projet\\Projet git\\data\\REF_MAGASIN.CSV', sep = \"|\",dtype={'LIBELLEDEPARTEMENT':str})"
   ]
  },
  {
   "cell_type": "code",
   "execution_count": 3,
   "metadata": {},
   "outputs": [
    {
     "data": {
      "text/html": [
       "<div>\n",
       "<style scoped>\n",
       "    .dataframe tbody tr th:only-of-type {\n",
       "        vertical-align: middle;\n",
       "    }\n",
       "\n",
       "    .dataframe tbody tr th {\n",
       "        vertical-align: top;\n",
       "    }\n",
       "\n",
       "    .dataframe thead th {\n",
       "        text-align: right;\n",
       "    }\n",
       "</style>\n",
       "<table border=\"1\" class=\"dataframe\">\n",
       "  <thead>\n",
       "    <tr style=\"text-align: right;\">\n",
       "      <th></th>\n",
       "      <th>IDCLIENT</th>\n",
       "      <th>CIVILITE</th>\n",
       "      <th>DATENAISSANCE</th>\n",
       "      <th>MAGASIN</th>\n",
       "      <th>DATEDEBUTADHESION</th>\n",
       "      <th>DATEREADHESION</th>\n",
       "      <th>DATEFINADHESION</th>\n",
       "      <th>VIP</th>\n",
       "      <th>CODEINSEE</th>\n",
       "      <th>PAYS</th>\n",
       "    </tr>\n",
       "  </thead>\n",
       "  <tbody>\n",
       "    <tr>\n",
       "      <th>0</th>\n",
       "      <td>155891</td>\n",
       "      <td>MADAME</td>\n",
       "      <td>NaN</td>\n",
       "      <td>VLG</td>\n",
       "      <td>13/05/2005 0:00:00</td>\n",
       "      <td>4/04/2017 0:00:00</td>\n",
       "      <td>30/04/2018 0:00:00</td>\n",
       "      <td>0</td>\n",
       "      <td>74224</td>\n",
       "      <td>FR</td>\n",
       "    </tr>\n",
       "    <tr>\n",
       "      <th>1</th>\n",
       "      <td>156023</td>\n",
       "      <td>MONSIEUR</td>\n",
       "      <td>7/08/1966 0:00:00</td>\n",
       "      <td>VLG</td>\n",
       "      <td>14/05/2005 0:00:00</td>\n",
       "      <td>21/06/2014 0:00:00</td>\n",
       "      <td>30/06/2016 0:00:00</td>\n",
       "      <td>0</td>\n",
       "      <td>74189</td>\n",
       "      <td>FR</td>\n",
       "    </tr>\n",
       "    <tr>\n",
       "      <th>2</th>\n",
       "      <td>124203</td>\n",
       "      <td>MADAME</td>\n",
       "      <td>NaN</td>\n",
       "      <td>BEA</td>\n",
       "      <td>16/03/2005 0:00:00</td>\n",
       "      <td>12/10/2017 0:00:00</td>\n",
       "      <td>31/10/2018 0:00:00</td>\n",
       "      <td>0</td>\n",
       "      <td>63070</td>\n",
       "      <td>FR</td>\n",
       "    </tr>\n",
       "    <tr>\n",
       "      <th>3</th>\n",
       "      <td>156190</td>\n",
       "      <td>MADAME</td>\n",
       "      <td>24/07/1976 0:00:00</td>\n",
       "      <td>SUR</td>\n",
       "      <td>28/08/2006 0:00:00</td>\n",
       "      <td>24/05/2015 0:00:00</td>\n",
       "      <td>31/05/2016 0:00:00</td>\n",
       "      <td>0</td>\n",
       "      <td>92026</td>\n",
       "      <td>FR</td>\n",
       "    </tr>\n",
       "    <tr>\n",
       "      <th>4</th>\n",
       "      <td>144444</td>\n",
       "      <td>MONSIEUR</td>\n",
       "      <td>NaN</td>\n",
       "      <td>LAB</td>\n",
       "      <td>29/04/2006 0:00:00</td>\n",
       "      <td>18/12/2016 0:00:00</td>\n",
       "      <td>31/12/2017 0:00:00</td>\n",
       "      <td>0</td>\n",
       "      <td>31555</td>\n",
       "      <td>FR</td>\n",
       "    </tr>\n",
       "  </tbody>\n",
       "</table>\n",
       "</div>"
      ],
      "text/plain": [
       "  IDCLIENT  CIVILITE       DATENAISSANCE MAGASIN   DATEDEBUTADHESION  \\\n",
       "0   155891    MADAME                 NaN     VLG  13/05/2005 0:00:00   \n",
       "1   156023  MONSIEUR   7/08/1966 0:00:00     VLG  14/05/2005 0:00:00   \n",
       "2   124203    MADAME                 NaN     BEA  16/03/2005 0:00:00   \n",
       "3   156190    MADAME  24/07/1976 0:00:00     SUR  28/08/2006 0:00:00   \n",
       "4   144444  MONSIEUR                 NaN     LAB  29/04/2006 0:00:00   \n",
       "\n",
       "       DATEREADHESION     DATEFINADHESION VIP CODEINSEE PAYS  \n",
       "0   4/04/2017 0:00:00  30/04/2018 0:00:00   0     74224   FR  \n",
       "1  21/06/2014 0:00:00  30/06/2016 0:00:00   0     74189   FR  \n",
       "2  12/10/2017 0:00:00  31/10/2018 0:00:00   0     63070   FR  \n",
       "3  24/05/2015 0:00:00  31/05/2016 0:00:00   0     92026   FR  \n",
       "4  18/12/2016 0:00:00  31/12/2017 0:00:00   0     31555   FR  "
      ]
     },
     "execution_count": 3,
     "metadata": {},
     "output_type": "execute_result"
    }
   ],
   "source": [
    "df_client.head()"
   ]
  },
  {
   "attachments": {},
   "cell_type": "markdown",
   "metadata": {},
   "source": [
    "## Transformation des variables"
   ]
  },
  {
   "cell_type": "code",
   "execution_count": 4,
   "metadata": {},
   "outputs": [],
   "source": [
    "df_client['DATEDEBUTADHESION'] = pd.to_datetime(df_client['DATEDEBUTADHESION'], \n",
    "                                           format= '%d/%m/%Y %H:%M:%S')\n",
    "df_client['DATEFINADHESION'] = pd.to_datetime(df_client['DATEFINADHESION'], \n",
    "                                             format='%d/%m/%Y %H:%M:%S')\n",
    "\n",
    "df_ticket['TIC_TOTALTTC']=df_ticket['TIC_TOTALTTC'].str.replace(',','.')\n",
    "df_ticket['TIC_TOTALTTC']=df_ticket['TIC_TOTALTTC'].astype('float')"
   ]
  },
  {
   "attachments": {},
   "cell_type": "markdown",
   "metadata": {},
   "source": [
    "## Construction du dataset"
   ]
  },
  {
   "cell_type": "code",
   "execution_count": 5,
   "metadata": {},
   "outputs": [
    {
     "name": "stdout",
     "output_type": "stream",
     "text": [
      "<class 'pandas.core.frame.DataFrame'>\n",
      "RangeIndex: 845876 entries, 0 to 845875\n",
      "Data columns (total 10 columns):\n",
      " #   Column             Non-Null Count   Dtype         \n",
      "---  ------             --------------   -----         \n",
      " 0   IDCLIENT           845876 non-null  object        \n",
      " 1   CIVILITE           845876 non-null  object        \n",
      " 2   DATENAISSANCE      507902 non-null  object        \n",
      " 3   MAGASIN            845876 non-null  object        \n",
      " 4   DATEDEBUTADHESION  845876 non-null  datetime64[ns]\n",
      " 5   DATEREADHESION     507816 non-null  object        \n",
      " 6   DATEFINADHESION    845876 non-null  datetime64[ns]\n",
      " 7   VIP                845876 non-null  object        \n",
      " 8   CODEINSEE          818455 non-null  object        \n",
      " 9   PAYS               845873 non-null  object        \n",
      "dtypes: datetime64[ns](2), object(8)\n",
      "memory usage: 64.5+ MB\n",
      "None\n",
      "<class 'pandas.core.frame.DataFrame'>\n",
      "RangeIndex: 6714173 entries, 0 to 6714172\n",
      "Data columns (total 5 columns):\n",
      " #   Column        Dtype  \n",
      "---  ------        -----  \n",
      " 0   IDTICKET      object \n",
      " 1   TIC_DATE      object \n",
      " 2   MAG_CODE      object \n",
      " 3   IDCLIENT      object \n",
      " 4   TIC_TOTALTTC  float64\n",
      "dtypes: float64(1), object(4)\n",
      "memory usage: 256.1+ MB\n",
      "None\n",
      "<class 'pandas.core.frame.DataFrame'>\n",
      "RangeIndex: 67 entries, 0 to 66\n",
      "Data columns (total 4 columns):\n",
      " #   Column                    Non-Null Count  Dtype \n",
      "---  ------                    --------------  ----- \n",
      " 0   CODESOCIETE               67 non-null     object\n",
      " 1   VILLE                     67 non-null     object\n",
      " 2   LIBELLEDEPARTEMENT        67 non-null     object\n",
      " 3   LIBELLEREGIONCOMMERCIALE  67 non-null     object\n",
      "dtypes: object(4)\n",
      "memory usage: 2.2+ KB\n",
      "None\n"
     ]
    }
   ],
   "source": [
    "print(df_client.info())\n",
    "print(df_ticket.info())\n",
    "print(df_magasin.info())"
   ]
  },
  {
   "cell_type": "code",
   "execution_count": 6,
   "metadata": {},
   "outputs": [
    {
     "data": {
      "text/html": [
       "<div>\n",
       "<style scoped>\n",
       "    .dataframe tbody tr th:only-of-type {\n",
       "        vertical-align: middle;\n",
       "    }\n",
       "\n",
       "    .dataframe tbody tr th {\n",
       "        vertical-align: top;\n",
       "    }\n",
       "\n",
       "    .dataframe thead th {\n",
       "        text-align: right;\n",
       "    }\n",
       "</style>\n",
       "<table border=\"1\" class=\"dataframe\">\n",
       "  <thead>\n",
       "    <tr style=\"text-align: right;\">\n",
       "      <th></th>\n",
       "      <th>IDCLIENT</th>\n",
       "      <th>Total_ticket</th>\n",
       "    </tr>\n",
       "  </thead>\n",
       "  <tbody>\n",
       "    <tr>\n",
       "      <th>0</th>\n",
       "      <td>10000</td>\n",
       "      <td>813.16</td>\n",
       "    </tr>\n",
       "    <tr>\n",
       "      <th>1</th>\n",
       "      <td>100002</td>\n",
       "      <td>249.41</td>\n",
       "    </tr>\n",
       "    <tr>\n",
       "      <th>2</th>\n",
       "      <td>100004</td>\n",
       "      <td>199.57</td>\n",
       "    </tr>\n",
       "    <tr>\n",
       "      <th>3</th>\n",
       "      <td>100006</td>\n",
       "      <td>1626.06</td>\n",
       "    </tr>\n",
       "    <tr>\n",
       "      <th>4</th>\n",
       "      <td>100008</td>\n",
       "      <td>332.50</td>\n",
       "    </tr>\n",
       "  </tbody>\n",
       "</table>\n",
       "</div>"
      ],
      "text/plain": [
       "  IDCLIENT  Total_ticket\n",
       "0    10000        813.16\n",
       "1   100002        249.41\n",
       "2   100004        199.57\n",
       "3   100006       1626.06\n",
       "4   100008        332.50"
      ]
     },
     "execution_count": 6,
     "metadata": {},
     "output_type": "execute_result"
    }
   ],
   "source": [
    "df_sommeticket = df_ticket.groupby(['IDCLIENT']).agg(Total_ticket=('TIC_TOTALTTC',\"sum\")).reset_index()\n",
    "df_sommeticket.head()"
   ]
  },
  {
   "cell_type": "code",
   "execution_count": 7,
   "metadata": {},
   "outputs": [
    {
     "name": "stdout",
     "output_type": "stream",
     "text": [
      "<class 'pandas.core.frame.DataFrame'>\n",
      "Int64Index: 845876 entries, 0 to 845875\n",
      "Data columns (total 12 columns):\n",
      " #   Column              Non-Null Count   Dtype         \n",
      "---  ------              --------------   -----         \n",
      " 0   IDCLIENT            845876 non-null  object        \n",
      " 1   CIVILITE            845876 non-null  object        \n",
      " 2   DATENAISSANCE       507902 non-null  object        \n",
      " 3   MAGASIN             845876 non-null  object        \n",
      " 4   DATEDEBUTADHESION   845876 non-null  datetime64[ns]\n",
      " 5   DATEREADHESION      507816 non-null  object        \n",
      " 6   DATEFINADHESION     845876 non-null  datetime64[ns]\n",
      " 7   VIP                 845876 non-null  object        \n",
      " 8   CODEINSEE           818455 non-null  object        \n",
      " 9   PAYS                845873 non-null  object        \n",
      " 10  Total_ticket        770163 non-null  float64       \n",
      " 11  LIBELLEDEPARTEMENT  845876 non-null  object        \n",
      "dtypes: datetime64[ns](2), float64(1), object(9)\n",
      "memory usage: 83.9+ MB\n"
     ]
    }
   ],
   "source": [
    "df_general = df_client.merge(df_sommeticket, how = 'left', left_on = 'IDCLIENT', right_on = 'IDCLIENT')\n",
    "df_general = df_general.merge(df_magasin[['CODESOCIETE','LIBELLEDEPARTEMENT']], how = 'left', left_on = 'MAGASIN', right_on = 'CODESOCIETE')\n",
    "df_general = df_general.drop('CODESOCIETE', axis = 1)\n",
    "df_general.info()"
   ]
  },
  {
   "attachments": {},
   "cell_type": "markdown",
   "metadata": {},
   "source": [
    "## Analyse du dataset"
   ]
  },
  {
   "attachments": {},
   "cell_type": "markdown",
   "metadata": {},
   "source": [
    "### Proportion Initial de VIP avant cleaning"
   ]
  },
  {
   "cell_type": "code",
   "execution_count": 8,
   "metadata": {},
   "outputs": [
    {
     "name": "stdout",
     "output_type": "stream",
     "text": [
      "la proportion de VIP est de 13.06 %\n"
     ]
    }
   ],
   "source": [
    "#Proportion VIP \n",
    "comptage = round((((df_general['VIP'] == '1').sum())/df_general.shape[0])*100,2)\n",
    "\n",
    "\n",
    "print(\"la proportion de VIP est de {} %\".format(comptage))"
   ]
  },
  {
   "attachments": {},
   "cell_type": "markdown",
   "metadata": {},
   "source": [
    " ### Nombre de lignes"
   ]
  },
  {
   "cell_type": "code",
   "execution_count": 9,
   "metadata": {},
   "outputs": [
    {
     "name": "stdout",
     "output_type": "stream",
     "text": [
      "845876\n"
     ]
    }
   ],
   "source": [
    "Nb_ligne_init=df_general.shape[0]\n",
    "print(Nb_ligne_init)"
   ]
  },
  {
   "attachments": {},
   "cell_type": "markdown",
   "metadata": {},
   "source": [
    " ### Détail des Valeurs manquantes"
   ]
  },
  {
   "cell_type": "code",
   "execution_count": 10,
   "metadata": {},
   "outputs": [
    {
     "data": {
      "text/plain": [
       "IDCLIENT                   0\n",
       "CIVILITE                   0\n",
       "DATENAISSANCE         337974\n",
       "MAGASIN                    0\n",
       "DATEDEBUTADHESION          0\n",
       "DATEREADHESION        338060\n",
       "DATEFINADHESION            0\n",
       "VIP                        0\n",
       "CODEINSEE              27421\n",
       "PAYS                       3\n",
       "Total_ticket           75713\n",
       "LIBELLEDEPARTEMENT         0\n",
       "dtype: int64"
      ]
     },
     "execution_count": 10,
     "metadata": {},
     "output_type": "execute_result"
    }
   ],
   "source": [
    "df_general.isna().sum()"
   ]
  },
  {
   "attachments": {},
   "cell_type": "markdown",
   "metadata": {},
   "source": [
    "### Statistique descriptif qualitatif"
   ]
  },
  {
   "cell_type": "code",
   "execution_count": 11,
   "metadata": {},
   "outputs": [
    {
     "name": "stderr",
     "output_type": "stream",
     "text": [
      "C:\\Users\\benja\\AppData\\Local\\Temp\\ipykernel_540\\1117807420.py:2: FutureWarning: Treating datetime data as categorical rather than numeric in `.describe` is deprecated and will be removed in a future version of pandas. Specify `datetime_is_numeric=True` to silence this warning and adopt the future behavior now.\n",
      "  print(colonne_qualit.describe())\n",
      "C:\\Users\\benja\\AppData\\Local\\Temp\\ipykernel_540\\1117807420.py:2: FutureWarning: Treating datetime data as categorical rather than numeric in `.describe` is deprecated and will be removed in a future version of pandas. Specify `datetime_is_numeric=True` to silence this warning and adopt the future behavior now.\n",
      "  print(colonne_qualit.describe())\n"
     ]
    },
    {
     "name": "stdout",
     "output_type": "stream",
     "text": [
      "       IDCLIENT CIVILITE      DATENAISSANCE MAGASIN    DATEDEBUTADHESION  \\\n",
      "count    845876   845876             507902  845876               845876   \n",
      "unique   845876        6              27869      67                 6356   \n",
      "top      155891   MADAME  1/10/1970 0:00:00     PRI  2001-03-01 00:00:00   \n",
      "freq          1   454862                680   26935                10214   \n",
      "first       NaN      NaN                NaN     NaN  1997-01-01 00:00:00   \n",
      "last        NaN      NaN                NaN     NaN  2017-12-31 00:00:00   \n",
      "\n",
      "           DATEREADHESION      DATEFINADHESION     VIP CODEINSEE    PAYS  \\\n",
      "count              507816               845876  845876    818455  845873   \n",
      "unique               2860                  161       2     24442      48   \n",
      "top     8/04/2017 0:00:00  2018-05-31 00:00:00       0     13001      FR   \n",
      "freq                 2149                56297  735425      9174  827365   \n",
      "first                 NaN  2016-01-21 00:00:00     NaN       NaN     NaN   \n",
      "last                  NaN  2100-01-31 00:00:00     NaN       NaN     NaN   \n",
      "\n",
      "       LIBELLEDEPARTEMENT  \n",
      "count              845876  \n",
      "unique                 34  \n",
      "top                    69  \n",
      "freq                96542  \n",
      "first                 NaN  \n",
      "last                  NaN  \n",
      "                             dtype  nunique                  min  \\\n",
      "IDCLIENT                    object   845876                10000   \n",
      "CIVILITE                    object        6               MADAME   \n",
      "DATENAISSANCE               object  27869.0                  NaN   \n",
      "MAGASIN                     object       67                  ALB   \n",
      "DATEDEBUTADHESION   datetime64[ns]     6356  1997-01-01 00:00:00   \n",
      "DATEREADHESION              object   2860.0                  NaN   \n",
      "DATEFINADHESION     datetime64[ns]      161  2016-01-21 00:00:00   \n",
      "VIP                         object        2                    0   \n",
      "CODEINSEE                   object  24442.0                  NaN   \n",
      "PAYS                        object     48.0                  NaN   \n",
      "LIBELLEDEPARTEMENT          object       34                   01   \n",
      "\n",
      "                                    max   taux_na  \n",
      "IDCLIENT                          99999  0.000000  \n",
      "CIVILITE                       monsieur  0.000000  \n",
      "DATENAISSANCE                       NaN  0.399555  \n",
      "MAGASIN                             VLG  0.000000  \n",
      "DATEDEBUTADHESION   2017-12-31 00:00:00  0.000000  \n",
      "DATEREADHESION                      NaN  0.399657  \n",
      "DATEFINADHESION     2100-01-31 00:00:00  0.000000  \n",
      "VIP                                   1  0.000000  \n",
      "CODEINSEE                           NaN  0.032417  \n",
      "PAYS                                NaN  0.000004  \n",
      "LIBELLEDEPARTEMENT                   92  0.000000  \n"
     ]
    },
    {
     "name": "stderr",
     "output_type": "stream",
     "text": [
      "g:\\Mon Drive\\cours benjamin\\ESG Paris\\Cours\\Semestre 2\\Machine learning\\Machine learning - Projet\\Projet git\\stats_desc.py:61: FutureWarning: ['DATENAISSANCE', 'DATEREADHESION', 'CODEINSEE', 'PAYS'] did not aggregate successfully. If any error is raised this will raise in a future version of pandas. Drop these columns/ops to avoid this warning.\n",
      "  stats1 = df.agg(['nunique', 'min', 'max']).transpose()\n"
     ]
    }
   ],
   "source": [
    "colonne_qualit=df_general.drop('Total_ticket',axis=1)\n",
    "print(colonne_qualit.describe())\n",
    "print(st.get_stats_quali(colonne_qualit))"
   ]
  },
  {
   "attachments": {},
   "cell_type": "markdown",
   "metadata": {},
   "source": [
    "### Statistique descriptif quantitatif"
   ]
  },
  {
   "cell_type": "code",
   "execution_count": 12,
   "metadata": {},
   "outputs": [
    {
     "name": "stdout",
     "output_type": "stream",
     "text": [
      "        Total_ticket\n",
      "count  770163.000000\n",
      "mean      506.980242\n",
      "std       691.570828\n",
      "min     -1187.880000\n",
      "25%       131.720000\n",
      "50%       281.950000\n",
      "75%       616.235000\n",
      "max     75593.440000\n",
      "                dtype      min       max        mean         std  median  \\\n",
      "Total_ticket  float64 -1187.88  75593.44  506.980242  691.570828  281.95   \n",
      "\n",
      "               taux_na  taux_var  \n",
      "Total_ticket  0.089508  1.364098  \n"
     ]
    }
   ],
   "source": [
    "colonne_quanti=df_general[['Total_ticket']]\n",
    "print(colonne_quanti.describe())\n",
    "print(st.get_stats_quanti(colonne_quanti))"
   ]
  },
  {
   "cell_type": "code",
   "execution_count": 13,
   "metadata": {},
   "outputs": [
    {
     "name": "stdout",
     "output_type": "stream",
     "text": [
      "le quantile à 99 % est Total_ticket    3240.0728\n",
      "Name: 0.99, dtype: float64:\n"
     ]
    }
   ],
   "source": [
    "print('le quantile à 99 % est {}:'.format(colonne_quanti.quantile(0.99)))"
   ]
  },
  {
   "attachments": {},
   "cell_type": "markdown",
   "metadata": {},
   "source": [
    "#### Analyse et cleaning à faire"
   ]
  },
  {
   "attachments": {},
   "cell_type": "markdown",
   "metadata": {},
   "source": [
    "- 6 valeurs uniques dans la variable civilite à réduire à 2 \n",
    "- Supprimer la colonne manquante datenaissance car trop de valeur manquante (environ 45%) et contient des valeurs aberrantes (âge du client peut dépasser 100 ans ou peut être inférieur à 10 ans)\n",
    "- tranformer date readhesion en  variable booléenne : 1 s'il a réadhérer et 0 sinon\n",
    "- Supprimer la colonne manquante code insee car valeur manquante et fait doublon avec département magasin\n",
    "- Suppression des outliers de la variable tic_total : suppresion valeur inf à 0 et supérieur à 4000 (99% de la population ont une somme de tic_totalttc supérieur à 3240)\n",
    "- Récupérer juste mois et année pour les dates afin de limter le nombre de valeurs uniques"
   ]
  },
  {
   "attachments": {},
   "cell_type": "markdown",
   "metadata": {},
   "source": [
    " ## Cleaning du dataset"
   ]
  },
  {
   "attachments": {},
   "cell_type": "markdown",
   "metadata": {},
   "source": [
    "### Transformation civilite"
   ]
  },
  {
   "cell_type": "code",
   "execution_count": 14,
   "metadata": {},
   "outputs": [
    {
     "data": {
      "text/plain": [
       "array(['MADAME', 'MONSIEUR', 'monsieur', 'madame', 'Mme', 'Mr'],\n",
       "      dtype=object)"
      ]
     },
     "execution_count": 14,
     "metadata": {},
     "output_type": "execute_result"
    }
   ],
   "source": [
    "df_general['CIVILITE'].unique()"
   ]
  },
  {
   "cell_type": "code",
   "execution_count": 15,
   "metadata": {},
   "outputs": [
    {
     "data": {
      "text/plain": [
       "array(['MADAME', 'MONSIEUR'], dtype=object)"
      ]
     },
     "execution_count": 15,
     "metadata": {},
     "output_type": "execute_result"
    }
   ],
   "source": [
    "list_to_replace =['Mr','monsieur']\n",
    "df_general['CIVILITE'].replace(list_to_replace, 'MONSIEUR', inplace=True)\n",
    "list_to_replace =['Mme','madame']\n",
    "df_general['CIVILITE'].replace(list_to_replace, 'MADAME', inplace=True)\n",
    "df_general['CIVILITE'].unique()"
   ]
  },
  {
   "attachments": {},
   "cell_type": "markdown",
   "metadata": {},
   "source": [
    "### Transformation date en mois /année"
   ]
  },
  {
   "cell_type": "code",
   "execution_count": 16,
   "metadata": {},
   "outputs": [],
   "source": [
    "df_general['Mois_DATEDEBUTADHESION']= df_general['DATEDEBUTADHESION'].dt.month\n",
    "df_general['Annee_DATEDEBUTADHESION']= df_general['DATEDEBUTADHESION'].dt.year\n",
    "df_general['Mois_DATEFINADHESION']= df_general['DATEFINADHESION'].dt.month\n",
    "df_general['Annee_DATEFINADHESION']= df_general['DATEFINADHESION'].dt.year\n",
    "df_general=df_general.drop('DATEFINADHESION',axis=1)\n",
    "df_general=df_general.drop('DATEDEBUTADHESION',axis=1)\n",
    "\n",
    "df_general['Mois_DATEDEBUTADHESION']=df_general['Mois_DATEDEBUTADHESION'].astype('str')\n",
    "df_general['Annee_DATEDEBUTADHESION']=df_general['Annee_DATEDEBUTADHESION'].astype('str')\n",
    "df_general['Mois_DATEFINADHESION']=df_general['Mois_DATEFINADHESION'].astype('str')\n",
    "df_general['Annee_DATEFINADHESION']=df_general['Annee_DATEFINADHESION'].astype('str')"
   ]
  },
  {
   "attachments": {},
   "cell_type": "markdown",
   "metadata": {},
   "source": [
    "### Transformation readhesion en binaire"
   ]
  },
  {
   "cell_type": "code",
   "execution_count": 17,
   "metadata": {},
   "outputs": [
    {
     "name": "stdout",
     "output_type": "stream",
     "text": [
      "1    507816\n",
      "0    338060\n",
      "Name: DATEREADHESION, dtype: int64\n"
     ]
    }
   ],
   "source": [
    "\n",
    "df_general['DATEREADHESION'] = df_general['DATEREADHESION'].fillna(0)\n",
    "df_general['DATEREADHESION'] = df_general['DATEREADHESION'].apply(lambda x: 1 if x != 0 else 0)\n",
    "print(df_general['DATEREADHESION'].value_counts())"
   ]
  },
  {
   "attachments": {},
   "cell_type": "markdown",
   "metadata": {},
   "source": [
    "### Suppression colonne naissance et code INSEE"
   ]
  },
  {
   "cell_type": "code",
   "execution_count": 18,
   "metadata": {},
   "outputs": [],
   "source": [
    "df_general=df_general.drop('DATENAISSANCE',axis=1)\n",
    "df_general=df_general.drop('CODEINSEE',axis=1)"
   ]
  },
  {
   "attachments": {},
   "cell_type": "markdown",
   "metadata": {},
   "source": [
    "### Redimensionnement total ticket"
   ]
  },
  {
   "cell_type": "code",
   "execution_count": 36,
   "metadata": {},
   "outputs": [],
   "source": [
    "filtre = (df_general['Total_ticket'] > 0 ) & (df_general['Total_ticket'] < 4000)\n",
    "df_general=df_general[filtre]"
   ]
  },
  {
   "attachments": {},
   "cell_type": "markdown",
   "metadata": {},
   "source": [
    "### Supression Valeurs manquantes"
   ]
  },
  {
   "cell_type": "code",
   "execution_count": 20,
   "metadata": {},
   "outputs": [],
   "source": [
    "df_general= df_general.dropna()"
   ]
  },
  {
   "attachments": {},
   "cell_type": "markdown",
   "metadata": {},
   "source": [
    "### Proportion ligne perdu "
   ]
  },
  {
   "cell_type": "code",
   "execution_count": 21,
   "metadata": {},
   "outputs": [
    {
     "name": "stdout",
     "output_type": "stream",
     "text": [
      "9.01\n"
     ]
    }
   ],
   "source": [
    "Ligne_perdu= round(((Nb_ligne_init-df_general.shape[0])/Nb_ligne_init)*100,2)\n",
    "print(Ligne_perdu)\n"
   ]
  },
  {
   "attachments": {},
   "cell_type": "markdown",
   "metadata": {},
   "source": [
    "### Proportion VIP après Cleaning"
   ]
  },
  {
   "cell_type": "code",
   "execution_count": 22,
   "metadata": {},
   "outputs": [
    {
     "name": "stdout",
     "output_type": "stream",
     "text": [
      "la proportion de VIP est de 14.34 %\n"
     ]
    }
   ],
   "source": [
    "#Proportion VIP \n",
    "comptage = round((((df_general['VIP'] == '1').sum())/df_general.shape[0])*100,2)\n",
    "\n",
    "print(\"la proportion de VIP est de {} %\".format(comptage))"
   ]
  },
  {
   "attachments": {},
   "cell_type": "markdown",
   "metadata": {},
   "source": [
    "## Etude des Corrélations"
   ]
  },
  {
   "attachments": {},
   "cell_type": "markdown",
   "metadata": {},
   "source": [
    "### Corrélation Quali X Quali"
   ]
  },
  {
   "cell_type": "code",
   "execution_count": 23,
   "metadata": {},
   "outputs": [
    {
     "name": "stdout",
     "output_type": "stream",
     "text": [
      "Corrélation chi2 entre VIP et IDCLIENT: p = 0.49946410080464854\n",
      "Corrélation chi2 entre VIP et CIVILITE: p = 1.03222182361726e-19\n",
      "Corrélation chi2 entre VIP et MAGASIN: p = 0.0\n",
      "Corrélation chi2 entre VIP et DATEREADHESION: p = 0.0\n",
      "Corrélation chi2 entre VIP et PAYS: p = 4.712178220337575e-64\n",
      "Corrélation chi2 entre VIP et LIBELLEDEPARTEMENT: p = 0.0\n",
      "Corrélation chi2 entre VIP et Mois_DATEDEBUTADHESION: p = 0.0\n",
      "Corrélation chi2 entre VIP et Annee_DATEDEBUTADHESION: p = 0.0\n",
      "Corrélation chi2 entre VIP et Mois_DATEFINADHESION: p = 0.0\n",
      "Corrélation chi2 entre VIP et Annee_DATEFINADHESION: p = 0.0\n"
     ]
    }
   ],
   "source": [
    "colonne_qualit=df_general.drop('Total_ticket',axis=1)\n",
    "# Sélectionner la colonne fixe\n",
    "colonne_fixe = colonne_qualit['VIP']\n",
    "\n",
    "# Parcourir toutes les autres colonnes\n",
    "for nom_colonne in colonne_qualit.columns:\n",
    "    if nom_colonne != 'VIP':\n",
    "        # Sélectionner la colonne à analyser\n",
    "        colonne_analyse = colonne_qualit[nom_colonne]\n",
    "        \n",
    "        # Créer un tableau de contingence entre les deux colonnes\n",
    "        table_contingence = pd.crosstab(colonne_fixe, colonne_analyse)\n",
    "        \n",
    "        # Effectuer le test Chi2 et afficher le résultat\n",
    "        stat, p, dof, expected = stats.chi2_contingency(table_contingence)\n",
    "        print(f'Corrélation chi2 entre {colonne_fixe.name} et {nom_colonne}: p = {p}')"
   ]
  },
  {
   "attachments": {},
   "cell_type": "markdown",
   "metadata": {},
   "source": [
    "### Corrélation Quali X Quanti"
   ]
  },
  {
   "cell_type": "code",
   "execution_count": 24,
   "metadata": {},
   "outputs": [
    {
     "data": {
      "text/plain": [
       "<AxesSubplot: xlabel='VIP', ylabel='Total_ticket'>"
      ]
     },
     "execution_count": 24,
     "metadata": {},
     "output_type": "execute_result"
    },
    {
     "data": {
      "image/png": "[encoded data removed]",
      "text/plain": [
       "<Figure size 640x480 with 1 Axes>"
      ]
     },
     "metadata": {},
     "output_type": "display_data"
    }
   ],
   "source": [
    "sns.boxplot(x=df_general['VIP'],y=df_general['Total_ticket'],data=df_general)"
   ]
  },
  {
   "attachments": {},
   "cell_type": "markdown",
   "metadata": {},
   "source": [
    "### Visualisation des variables qui ont la meilleure corrélation avec  la colonne VIP"
   ]
  },
  {
   "cell_type": "code",
   "execution_count": 25,
   "metadata": {},
   "outputs": [
    {
     "name": "stderr",
     "output_type": "stream",
     "text": [
      "C:\\Users\\benja\\AppData\\Local\\Temp\\ipykernel_540\\1733965797.py:20: RuntimeWarning: invalid value encountered in double_scalars\n",
      "  cramers_v = np.sqrt(phi2corr / min((kcorr-1), (rcorr-1)))\n"
     ]
    },
    {
     "data": {
      "image/png": "[encoded data removed]",
      "text/plain": [
       "<Figure size 640x480 with 1 Axes>"
      ]
     },
     "metadata": {},
     "output_type": "display_data"
    }
   ],
   "source": [
    "# Spécifier la variable cible\n",
    "target_variable = 'VIP'\n",
    "\n",
    "# Initialiser une liste vide pour stocker les résultats du test de Cramer's V\n",
    "cramer_results = []\n",
    "\n",
    "# Boucle à travers toutes les colonnes du dataframe\n",
    "for column in colonne_qualit.columns:\n",
    "    # Vérifier si la colonne est catégorielle\n",
    "    if column != target_variable :\n",
    "        # Effectuer le test de Cramer's V pour la colonne et la variable cible\n",
    "        contingency_table = pd.crosstab(colonne_qualit[column], colonne_qualit[target_variable])\n",
    "        chi2_stat, p_val, dof, expected = stats.chi2_contingency(contingency_table)\n",
    "        n = contingency_table.sum().sum()\n",
    "        phi2 = chi2_stat/n\n",
    "        r, k = contingency_table.shape\n",
    "        phi2corr = max(0, phi2 - ((k-1)*(r-1))/(n-1))\n",
    "        rcorr = r - ((r-1)**2)/(n-1)\n",
    "        kcorr = k - ((k-1)**2)/(n-1)\n",
    "        cramers_v = np.sqrt(phi2corr / min((kcorr-1), (rcorr-1)))\n",
    "        \n",
    "        # Ajouter le résultat du test de Cramer's V à la liste\n",
    "        cramer_results.append({'Variable': column, 'Cramer\\'s V': cramers_v})\n",
    "\n",
    "# Trier la liste des résultats du test de Cramer's V par ordre décroissant de corrélation\n",
    "cramer_results = sorted(cramer_results, key=lambda x: x['Cramer\\'s V'], reverse=True)\n",
    "\n",
    "# Extraire les noms de variables et les valeurs de Cramer's V en tant que listes\n",
    "variable_names = [result['Variable'] for result in cramer_results]\n",
    "cramer_values = [result['Cramer\\'s V'] for result in cramer_results]\n",
    "\n",
    "# Créer un histogramme des valeurs de Cramer's V\n",
    "plt.bar(variable_names, cramer_values)\n",
    "plt.xticks(rotation=90)\n",
    "plt.title(\"Classement des variables selon leur corrélation avec la variable VIP\")\n",
    "plt.xlabel(\"Variables\")\n",
    "plt.ylabel(\"Valeur de Cramer's V\")\n",
    "plt.show()"
   ]
  },
  {
   "attachments": {},
   "cell_type": "markdown",
   "metadata": {},
   "source": [
    "Remarque : Nous décidons de nous séparer des variables \"PAYS\", \"CIVILITE\" et \"IDCLIENT\" Car leurs relations avec la variables \"VIP\" n'est pas significatif"
   ]
  },
  {
   "attachments": {},
   "cell_type": "markdown",
   "metadata": {},
   "source": [
    "### Suppression des Variables : Pays / Civilités / IDCLIENT"
   ]
  },
  {
   "cell_type": "code",
   "execution_count": 26,
   "metadata": {},
   "outputs": [],
   "source": [
    "df_general=df_general.drop(['IDCLIENT','PAYS','CIVILITE'],axis=1)"
   ]
  },
  {
   "attachments": {},
   "cell_type": "markdown",
   "metadata": {},
   "source": [
    "# II/ Mise en place du modèle d'apprentissage : Régression Logistique"
   ]
  },
  {
   "attachments": {},
   "cell_type": "markdown",
   "metadata": {},
   "source": [
    "## Import bibliothèque"
   ]
  },
  {
   "cell_type": "code",
   "execution_count": 27,
   "metadata": {},
   "outputs": [],
   "source": [
    "from sklearn.model_selection import train_test_split\n",
    "from sklearn.linear_model import LogisticRegression\n",
    "from sklearn.metrics import confusion_matrix, accuracy_score, precision_score, recall_score, f1_score, roc_auc_score, roc_curve,RocCurveDisplay\n",
    "from sklearn.model_selection import RandomizedSearchCV\n",
    "from sklearn.preprocessing import StandardScaler\n",
    "from sklearn.preprocessing import OneHotEncoder\n"
   ]
  },
  {
   "attachments": {},
   "cell_type": "markdown",
   "metadata": {},
   "source": [
    "## Séparation de la variable cible des variables d'entrées"
   ]
  },
  {
   "cell_type": "code",
   "execution_count": 28,
   "metadata": {},
   "outputs": [],
   "source": [
    "#Variables d'entrées\n",
    "x = df_general.drop('VIP',axis=1)\n",
    "#Variable Cible\n",
    "y = df_general[['VIP']]"
   ]
  },
  {
   "attachments": {},
   "cell_type": "markdown",
   "metadata": {},
   "source": [
    "## Transformation des variables qualitatives en variables binaires (Dummification)"
   ]
  },
  {
   "cell_type": "code",
   "execution_count": 29,
   "metadata": {},
   "outputs": [],
   "source": [
    "x=pd.DataFrame(pd.get_dummies(x))"
   ]
  },
  {
   "attachments": {},
   "cell_type": "markdown",
   "metadata": {},
   "source": [
    "## Séparation Test / entrainement"
   ]
  },
  {
   "cell_type": "code",
   "execution_count": 30,
   "metadata": {},
   "outputs": [],
   "source": [
    "X_train, X_test, y_train, y_test = train_test_split(\n",
    "    x, y, test_size=0.25, random_state=123\n",
    ")"
   ]
  },
  {
   "attachments": {},
   "cell_type": "markdown",
   "metadata": {},
   "source": [
    "Remarque : 75 % du dataset seront notre jeu d'apprentissage et le reste sera notre jeu de test"
   ]
  },
  {
   "attachments": {},
   "cell_type": "markdown",
   "metadata": {},
   "source": [
    "## Normalisation des données quantitatives"
   ]
  },
  {
   "cell_type": "code",
   "execution_count": 31,
   "metadata": {},
   "outputs": [],
   "source": [
    "scaler = StandardScaler()\n",
    "X_train= scaler.fit_transform(X_train)\n",
    "X_test= scaler.transform(X_test)\n"
   ]
  },
  {
   "attachments": {},
   "cell_type": "markdown",
   "metadata": {},
   "source": [
    "## Aplication du modèle d'apprentissage"
   ]
  },
  {
   "cell_type": "code",
   "execution_count": 32,
   "metadata": {},
   "outputs": [],
   "source": [
    "#Definition des paramètres\n",
    "\n",
    "params = {\n",
    "    \"penalty\": \"l2\", \n",
    "    \"C\": 10, \n",
    "    \"random_state\": 42,\n",
    "    \"solver\" : 'liblinear',\n",
    "    \"max_iter\" :100\n",
    "}\n",
    "# Define logistic regression model\n",
    "clf = LogisticRegression(**params)\n",
    "\n",
    "\n",
    "# Train the classifer on the train set\n",
    "clf = clf.fit(X_train, np.ravel(y_train))\n",
    "\n",
    "\n",
    "# Predict the outcomes on the test set\n",
    "y_pred = clf.predict(X_test)"
   ]
  },
  {
   "attachments": {},
   "cell_type": "markdown",
   "metadata": {},
   "source": [
    "## Evaluation du modèle"
   ]
  },
  {
   "attachments": {},
   "cell_type": "markdown",
   "metadata": {},
   "source": [
    "### Score Accuracy et AUC"
   ]
  },
  {
   "cell_type": "code",
   "execution_count": 33,
   "metadata": {},
   "outputs": [
    {
     "name": "stdout",
     "output_type": "stream",
     "text": [
      "Accuracy sur train =  0.9468191070113897\n",
      "Accuracy sur test =  0.9461504482265818\n",
      "AUC sur train =  0.8612599707654705\n",
      "AUC sur test =  0.8606814558754365\n"
     ]
    }
   ],
   "source": [
    "\n",
    "##### Evalulation du modèle\n",
    "print('Accuracy sur train = ', clf.score(X_train, y_train))  \n",
    "print('Accuracy sur test = ', clf.score(X_test, y_test)) \n",
    "###### AUC\n",
    "print('AUC sur train = ', roc_auc_score(y_train, clf.predict(X_train)))  \n",
    "print('AUC sur test = ', roc_auc_score(y_test, clf.predict(X_test))) "
   ]
  },
  {
   "attachments": {},
   "cell_type": "markdown",
   "metadata": {},
   "source": [
    "Remarque : On observe dans notre cas une absence d'overfitting étant donnée que l'AUC du jeu d'apprentissage et du jeu de test sont similaires"
   ]
  },
  {
   "attachments": {},
   "cell_type": "markdown",
   "metadata": {},
   "source": [
    "### Matrice de confusion"
   ]
  },
  {
   "cell_type": "code",
   "execution_count": 34,
   "metadata": {},
   "outputs": [
    {
     "data": {
      "text/plain": [
       "Text(0.5, 23.52222222222222, 'Predicted label')"
      ]
     },
     "execution_count": 34,
     "metadata": {},
     "output_type": "execute_result"
    },
    {
     "data": {
      "image/png": "[encoded data removed]",
      "text/plain": [
       "<Figure size 640x480 with 2 Axes>"
      ]
     },
     "metadata": {},
     "output_type": "display_data"
    }
   ],
   "source": [
    "# Calculate confusion matrix\n",
    "cnf_matrix = confusion_matrix(y_test, y_pred)\n",
    "\n",
    "# Plot a labeled confusion matrix with Seaborn\n",
    "sns.heatmap(cnf_matrix, annot=True, fmt=\"g\")\n",
    "plt.title(\"Confusion matrix\")\n",
    "plt.ylabel(\"Actual label\")\n",
    "plt.xlabel(\"Predicted label\")"
   ]
  },
  {
   "attachments": {},
   "cell_type": "markdown",
   "metadata": {},
   "source": [
    "### Metrics sur le jeux de test et courbe ROC"
   ]
  },
  {
   "cell_type": "code",
   "execution_count": 37,
   "metadata": {},
   "outputs": [
    {
     "name": "stdout",
     "output_type": "stream",
     "text": [
      "Precision: 0.8673520984324962\n",
      "Recall: 0.7404849269731635\n",
      "F1 score: 0.7989132544149038\n"
     ]
    },
    {
     "data": {
      "image/png": "[encoded data removed]",
      "text/plain": [
       "<Figure size 640x480 with 1 Axes>"
      ]
     },
     "metadata": {},
     "output_type": "display_data"
    }
   ],
   "source": [
    "# Faire des prédictions sur les données de test\n",
    "y_pred = clf.predict(X_test)\n",
    "\n",
    "# Calculer les scores d'évaluation\n",
    "precision = precision_score(y_test, y_pred,pos_label='1')\n",
    "recall = recall_score(y_test, y_pred,pos_label='1')\n",
    "f1 = f1_score(y_test, y_pred,pos_label='1')\n",
    "fpr, tpr, thresholds = roc_curve(y_test, clf.predict_proba(X_test)[:,1],pos_label='1')\n",
    "\n",
    "print(\"Precision:\", precision)\n",
    "print(\"Recall:\", recall)\n",
    "print(\"F1 score:\", f1)\n",
    "\n",
    "# Afficher la courbe ROC\n",
    "plt.plot(fpr, tpr)\n",
    "plt.title('Courbe ROC')\n",
    "plt.xlabel('False Positive Rate')\n",
    "plt.ylabel('True Positive Rate')\n",
    "plt.show()"
   ]
  },
  {
   "attachments": {},
   "cell_type": "markdown",
   "metadata": {},
   "source": [
    "Remarque : Le changement de paramètre dans notre modèle n'a aucun impact sur l'évaluation du modèle. Pour obtenir un possible meilleur résultat, nous allons réaliser un second modèle d'apprentissage"
   ]
  }
 ],
 "metadata": {
  "kernelspec": {
   "display_name": "Python 3",
   "language": "python",
   "name": "python3"
  },
  "language_info": {
   "codemirror_mode": {
    "name": "ipython",
    "version": 3
   },
   "file_extension": ".py",
   "mimetype": "text/x-python",
   "name": "python",
   "nbconvert_exporter": "python",
   "pygments_lexer": "ipython3",
   "version": "3.9.16"
  },
  "orig_nbformat": 4
 },
 "nbformat": 4,
 "nbformat_minor": 2
}
